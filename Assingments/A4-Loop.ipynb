{
 "cells": [
  {
   "cell_type": "code",
   "execution_count": 1,
   "metadata": {},
   "outputs": [],
   "source": [
    "# A4  Looping Structures "
   ]
  },
  {
   "cell_type": "code",
   "execution_count": 2,
   "metadata": {},
   "outputs": [],
   "source": [
    "# 1. Write a Python program to print the numbers from 1 to 10 using a for loop."
   ]
  },
  {
   "cell_type": "code",
   "execution_count": null,
   "metadata": {},
   "outputs": [],
   "source": []
  },
  {
   "cell_type": "code",
   "execution_count": 3,
   "metadata": {},
   "outputs": [],
   "source": [
    "# 2. Write a Python program to print the numbers from 20 to 1 using a while loop."
   ]
  },
  {
   "cell_type": "code",
   "execution_count": null,
   "metadata": {},
   "outputs": [],
   "source": []
  },
  {
   "cell_type": "code",
   "execution_count": 4,
   "metadata": {},
   "outputs": [],
   "source": [
    "# 3. Write a program to print even numbers from 1 to 10."
   ]
  },
  {
   "cell_type": "code",
   "execution_count": null,
   "metadata": {},
   "outputs": [],
   "source": []
  },
  {
   "cell_type": "code",
   "execution_count": 5,
   "metadata": {},
   "outputs": [],
   "source": [
    "# 4. Write a program that prompts the user to enter a number n and prints all the\n",
    "# numbers from 1 to n."
   ]
  },
  {
   "cell_type": "code",
   "execution_count": null,
   "metadata": {},
   "outputs": [],
   "source": []
  },
  {
   "cell_type": "code",
   "execution_count": 6,
   "metadata": {},
   "outputs": [],
   "source": [
    "# 5. Write a program that prompts the user to enter a number n, and then prints all the\n",
    "# odd numbers between 1 and n."
   ]
  },
  {
   "cell_type": "code",
   "execution_count": null,
   "metadata": {},
   "outputs": [],
   "source": []
  },
  {
   "cell_type": "code",
   "execution_count": 7,
   "metadata": {},
   "outputs": [],
   "source": [
    "# 6. Write a program that prints 'Happy Birthday!' five times on screen."
   ]
  },
  {
   "cell_type": "code",
   "execution_count": null,
   "metadata": {},
   "outputs": [],
   "source": []
  },
  {
   "cell_type": "code",
   "execution_count": 8,
   "metadata": {},
   "outputs": [],
   "source": [
    "# 7. Write a program that takes a number n as input from the user and generates the first\n",
    "# n terms of the series formed by squaring the natural numbers.\n",
    "# Sample output\n",
    "# Enter a number: 6\n",
    "# The first 6 terms of the series are:\n",
    "# 1 4 9 16 25 36"
   ]
  },
  {
   "cell_type": "code",
   "execution_count": null,
   "metadata": {},
   "outputs": [],
   "source": []
  },
  {
   "cell_type": "code",
   "execution_count": 9,
   "metadata": {},
   "outputs": [],
   "source": [
    "# 8. Write a program that prompts the user to input a number and prints its multiplication\n",
    "# table."
   ]
  },
  {
   "cell_type": "code",
   "execution_count": null,
   "metadata": {},
   "outputs": [],
   "source": []
  },
  {
   "cell_type": "code",
   "execution_count": 10,
   "metadata": {},
   "outputs": [],
   "source": [
    "# 9. Write a Python program to print the first 8 terms of an arithmetic progression starting\n",
    "# with 3 and having a common difference of 4.\n",
    "# The program should output the following sequence:\n",
    "# 3 7 11 15 19 23 27 31"
   ]
  },
  {
   "cell_type": "code",
   "execution_count": null,
   "metadata": {},
   "outputs": [],
   "source": []
  },
  {
   "cell_type": "code",
   "execution_count": 11,
   "metadata": {},
   "outputs": [],
   "source": [
    "# 10. Write a Python program to print the first 6 terms of a geometric sequence starting\n",
    "# with 2 and having a common ratio of 3.\n",
    "# The program should output the following sequence:\n",
    "# 2 6 18 54 162 486"
   ]
  },
  {
   "cell_type": "code",
   "execution_count": null,
   "metadata": {},
   "outputs": [],
   "source": []
  },
  {
   "cell_type": "code",
   "execution_count": 12,
   "metadata": {},
   "outputs": [],
   "source": [
    "# 11. Write a program that asks the user for a positive integer value. The program should\n",
    "# calculate the sum of all the integers from 1 up to the number entered. For example, if\n",
    "# the user enters 20, the loop will find the sum of 1, 2, 3, 4, ... 20."
   ]
  },
  {
   "cell_type": "code",
   "execution_count": null,
   "metadata": {},
   "outputs": [],
   "source": []
  },
  {
   "cell_type": "code",
   "execution_count": 13,
   "metadata": {},
   "outputs": [],
   "source": [
    "# 12. write a program that takes a positive integer N as input and calculates the sum of\n",
    "# the reciprocals of all numbers from 1 up to N. The program should display the final sum.\n",
    "\n",
    "# Output of the program should be like:\n",
    "# Enter a positive integer: 5\n",
    "# The sum of reciprocals from 1 to 5 is: 2.28"
   ]
  },
  {
   "cell_type": "code",
   "execution_count": null,
   "metadata": {},
   "outputs": [],
   "source": []
  },
  {
   "cell_type": "code",
   "execution_count": 14,
   "metadata": {},
   "outputs": [],
   "source": [
    "# 13. Write a program that prompts the user to enter a number and repeats this process 5\n",
    "# times. The program should accumulate the numbers entered and then display the final\n",
    "# running total.\n",
    "# Sample Output:\n",
    "# Enter a number: 10\n",
    "# Enter a number: 15\n",
    "# Enter a number: 35\n",
    "# Enter a number: 40\n",
    "# Enter a number: 50\n",
    "# The final running total is: 150"
   ]
  },
  {
   "cell_type": "code",
   "execution_count": null,
   "metadata": {},
   "outputs": [],
   "source": []
  },
  {
   "cell_type": "code",
   "execution_count": 15,
   "metadata": {},
   "outputs": [],
   "source": [
    "# 14. Write a program that prompts the user to enter a positive integer and calculates its\n",
    "# factorial. The factorial of a positive integer 'n' is denoted as 'n!' and is calculated by\n",
    "# multiplying all the integers from 1 to 'n' together. For example, the factorial of 5\n",
    "# (denoted as 5!) is calculated as 1 x 2 x 3 x 4 x 5.\n",
    "# The program should display the factorial value if the input is a positive number, or\n",
    "# display a message stating that the factorial does not exist for negative numbers.\n",
    "# Additionally, for an input of zero, the program should output that the factorial of 0 is 1."
   ]
  },
  {
   "cell_type": "code",
   "execution_count": null,
   "metadata": {},
   "outputs": [],
   "source": []
  },
  {
   "cell_type": "code",
   "execution_count": 16,
   "metadata": {},
   "outputs": [],
   "source": [
    "# 15. Write a Python program that prompts the user to enter a base number and an\n",
    "# exponent, and then calculates the power of the base to the exponent. The program\n",
    "# should not use the exponentiation operator (**) or the math.pow() function. The\n",
    "# program should handle both positive and negative exponents."
   ]
  },
  {
   "cell_type": "code",
   "execution_count": null,
   "metadata": {},
   "outputs": [],
   "source": []
  }
 ],
 "metadata": {
  "kernelspec": {
   "display_name": "base",
   "language": "python",
   "name": "python3"
  },
  "language_info": {
   "codemirror_mode": {
    "name": "ipython",
    "version": 3
   },
   "file_extension": ".py",
   "mimetype": "text/x-python",
   "name": "python",
   "nbconvert_exporter": "python",
   "pygments_lexer": "ipython3",
   "version": "3.12.4"
  }
 },
 "nbformat": 4,
 "nbformat_minor": 2
}
