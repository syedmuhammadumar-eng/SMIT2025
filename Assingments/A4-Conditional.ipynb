{
 "cells": [
  {
   "cell_type": "code",
   "execution_count": 1,
   "metadata": {},
   "outputs": [],
   "source": [
    "# 1. Write a program that prompts the user to input a number and display if the number\n",
    "# is even or odd."
   ]
  },
  {
   "cell_type": "code",
   "execution_count": null,
   "metadata": {},
   "outputs": [],
   "source": []
  },
  {
   "cell_type": "code",
   "execution_count": 2,
   "metadata": {},
   "outputs": [],
   "source": [
    "# 2. Write a Python program that takes an age as input and determines whether a person\n",
    "# is eligible to vote. If the age is 18 or above, print \"You are eligible to vote.\" Otherwise,\n",
    "# print \"You are not eligible to vote yet.\"."
   ]
  },
  {
   "cell_type": "code",
   "execution_count": null,
   "metadata": {},
   "outputs": [],
   "source": []
  },
  {
   "cell_type": "code",
   "execution_count": 3,
   "metadata": {},
   "outputs": [],
   "source": [
    "# 3. Write a program that prompts the user to input two integers and outputs the largest."
   ]
  },
  {
   "cell_type": "code",
   "execution_count": null,
   "metadata": {},
   "outputs": [],
   "source": []
  },
  {
   "cell_type": "code",
   "execution_count": 4,
   "metadata": {},
   "outputs": [],
   "source": [
    "# 4. Write a program that prompts the user to enter a number and determines whether it\n",
    "# is positive, negative, or zero. The program should print \"Positive\" if the number is\n",
    "# greater than 0, \"Negative\" if the number is less than 0, and \"Zero\" if the number is 0."
   ]
  },
  {
   "cell_type": "code",
   "execution_count": null,
   "metadata": {},
   "outputs": [],
   "source": []
  },
  {
   "cell_type": "code",
   "execution_count": 5,
   "metadata": {},
   "outputs": [],
   "source": [
    "# 5. Write a program that prompts the user to enter their age and prints the\n",
    "# corresponding age group. The program should use the following age groups:\n",
    "# 0-12: Child\n",
    "# 13-19: Teenager\n",
    "# 20-59: Adult\n",
    "# 60 and above: Senior Citizen"
   ]
  },
  {
   "cell_type": "code",
   "execution_count": null,
   "metadata": {},
   "outputs": [],
   "source": []
  },
  {
   "cell_type": "code",
   "execution_count": 6,
   "metadata": {},
   "outputs": [],
   "source": [
    "# 6. Write a program that prompts the user to input a number from 1 to 7. The program\n",
    "# should display the corresponding day for the given number. For example, if the user\n",
    "# types 1, the output should be Sunday. If the user types 7, the output should be\n",
    "# Saturday. If the number is not between 1 to 7 user should get error message as shown\n",
    "# in sample output."
   ]
  },
  {
   "cell_type": "code",
   "execution_count": null,
   "metadata": {},
   "outputs": [],
   "source": []
  },
  {
   "cell_type": "code",
   "execution_count": 7,
   "metadata": {},
   "outputs": [],
   "source": [
    "# 7. Write a program that prompts the user to enter their weight (in kilograms) and height\n",
    "# (in meters). The program should calculate the Body Mass Index (BMI) using the formula:\n",
    "# BMI = weight / (height * height). The program should then classify the BMI into one of\n",
    "# the following categories:\n",
    "# less than 18.5 - Underweight\n",
    "# BMI between 18.5 and 24.9 - Normal weight\n",
    "# BMI between 25 and 29.9 - Overweight\n",
    "# BMI 30 or greater - Obesity"
   ]
  },
  {
   "cell_type": "code",
   "execution_count": null,
   "metadata": {},
   "outputs": [],
   "source": []
  },
  {
   "cell_type": "code",
   "execution_count": 9,
   "metadata": {},
   "outputs": [],
   "source": [
    "# 8. The marks obtained by a student in 3 different subjects are input by the user. Your\n",
    "# program should calculate the average of subjects and display the grade. The student\n",
    "# gets a grade as per the following rules:\n",
    "# Average Grade\n",
    "# 90-100 A\n",
    "# 80-89 B\n",
    "# 70-79 C\n",
    "# 60-69 D\n",
    "# 0-59 F"
   ]
  },
  {
   "cell_type": "code",
   "execution_count": null,
   "metadata": {},
   "outputs": [],
   "source": []
  },
  {
   "cell_type": "code",
   "execution_count": 10,
   "metadata": {},
   "outputs": [],
   "source": [
    "# 9. The roots of the quadratic equation ax2\n",
    "\n",
    "# + bx + c = 0, a ≠ 0 are given by the following\n",
    "\n",
    "# formula:\n",
    "\n",
    "# In this formula, the term b2\n",
    "\n",
    "# - 4ac is called the discriminant. If b2\n",
    "\n",
    "# - 4ac = 0, then the\n",
    "\n",
    "# equation has two equal roots.\n",
    "# If b2\n",
    "# - 4ac > 0, the equation has two real roots. If b2\n",
    "\n",
    "# - 4ac < 0, the equation has two\n",
    "\n",
    "# complex roots.\n",
    "# Write a program that prompts the user to input the value of a (the coefficient of x2\n",
    "# ), b\n",
    "# (the coefficient of x), and c (the constant term) and outputs the roots of the quadratic\n",
    "# equation."
   ]
  },
  {
   "cell_type": "code",
   "execution_count": null,
   "metadata": {},
   "outputs": [],
   "source": []
  },
  {
   "cell_type": "code",
   "execution_count": 11,
   "metadata": {},
   "outputs": [],
   "source": [
    "# 10. Write a program that prompts the user to enter three numbers and sorts them in\n",
    "# ascending order. The program should print the sorted numbers."
   ]
  },
  {
   "cell_type": "code",
   "execution_count": null,
   "metadata": {},
   "outputs": [],
   "source": []
  },
  {
   "cell_type": "code",
   "execution_count": 12,
   "metadata": {},
   "outputs": [],
   "source": [
    "# 11. Write a program that prompts the user to input three integers and outputs the\n",
    "# largest."
   ]
  },
  {
   "cell_type": "code",
   "execution_count": null,
   "metadata": {},
   "outputs": [],
   "source": []
  },
  {
   "cell_type": "code",
   "execution_count": 13,
   "metadata": {},
   "outputs": [],
   "source": [
    "# 12. Write a program that prompts the user to input a character and determine the\n",
    "# character is vowel or consonant."
   ]
  },
  {
   "cell_type": "code",
   "execution_count": null,
   "metadata": {},
   "outputs": [],
   "source": []
  },
  {
   "cell_type": "code",
   "execution_count": 14,
   "metadata": {},
   "outputs": [],
   "source": [
    "# 13. Write a program that prompts the user to input a year and determine whether the\n",
    "# year is a leap year or not.\n",
    "# Leap Years are any year that can be evenly divided by 4. A year that is evenly divisible by\n",
    "# 100 is a leap year only if it is also evenly divisible by 400. Example:\n",
    "# 1992 Leap Year\n",
    "# 2000 Leap Year\n",
    "# 1900 NOT a Leap Year"
   ]
  },
  {
   "cell_type": "code",
   "execution_count": null,
   "metadata": {},
   "outputs": [],
   "source": []
  },
  {
   "cell_type": "code",
   "execution_count": 15,
   "metadata": {},
   "outputs": [],
   "source": [
    "# 14. Write a program that prompts the user to input number of calls and calculate the\n",
    "# monthly telephone bills as per the following rule:\n",
    "# Minimum Rs. 200 for up to 100 calls.\n",
    "# Plus Rs. 0.60 per call for next 50 calls.\n",
    "# Plus Rs. 0.50 per call for next 50 calls.\n",
    "# Plus Rs. 0.40 per call for any call beyond 200 calls."
   ]
  },
  {
   "cell_type": "code",
   "execution_count": null,
   "metadata": {},
   "outputs": [],
   "source": []
  },
  {
   "cell_type": "code",
   "execution_count": null,
   "metadata": {},
   "outputs": [],
   "source": []
  }
 ],
 "metadata": {
  "kernelspec": {
   "display_name": "base",
   "language": "python",
   "name": "python3"
  },
  "language_info": {
   "codemirror_mode": {
    "name": "ipython",
    "version": 3
   },
   "file_extension": ".py",
   "mimetype": "text/x-python",
   "name": "python",
   "nbconvert_exporter": "python",
   "pygments_lexer": "ipython3",
   "version": "3.12.4"
  }
 },
 "nbformat": 4,
 "nbformat_minor": 2
}
