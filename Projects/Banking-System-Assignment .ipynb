{
 "cells": [
  {
   "cell_type": "code",
   "execution_count": 2,
   "metadata": {},
   "outputs": [],
   "source": [
    "# PROJECT BANK MANAGEMENT SYSTEM \n",
    "# MAJOR PROJECT 01\n",
    "# SYED MUHAMMAD UMAR\n",
    "# 333709\n",
    "# SMIT, SIR NASIR, AI"
   ]
  },
  {
   "cell_type": "code",
   "execution_count": 3,
   "metadata": {},
   "outputs": [],
   "source": [
    "# <================= -Module 1:  F1 creating an account, ================>"
   ]
  },
  {
   "cell_type": "code",
   "execution_count": null,
   "metadata": {},
   "outputs": [
    {
     "name": "stdout",
     "output_type": "stream",
     "text": [
      "HI john Deo please open my Account Please\n",
      "{'User_1': {'name': 'umar', 'father_name': 'nadeem', 'phone_number': '03498116068', 'email': 'ssyedmuhammadumar.develoer@gmail.com', 'job_designation': 'soft eng', 'address': 'karaci'}, 'User_2': {'name': 'ali', 'father_name': 'nadeem', 'phone_number': '0123456789', 'email': 'ali@gmail.com', 'job_designation': 'seo', 'address': 'karachi'}, 'User_3': {'name': 'hassan', 'father_name': 'nadeem', 'phone_number': '0987456321', 'email': 'hassan@gmail.com', 'job_designation': 'architect cluod', 'address': 'karachi'}}\n"
     ]
    }
   ],
   "source": [
    "#add unique user id into the user data\n",
    "User_Accounts = {}\n",
    "\n",
    "# anaylysis (storing account data, create account, update, delete , storing user amount)\n",
    "# taking input from the user for account cration\n",
    "print(\"HI john Deo please open my Account Please\")\n",
    "\n",
    "#account creation\n",
    "def accountCreation():\n",
    "    a1 = input(\"Enter user name\")\n",
    "    a2 = input(\"Enter user Father name\")\n",
    "    a3 = input(\"Enter user phone number\")\n",
    "    a4 = input(\"Enter user email\")\n",
    "    a5 = input(\"Enter user Job desingnation\")\n",
    "    a6 = input(\"Enter user Address city, area, street\")\n",
    "    return {\n",
    "        \"name\": a1,\n",
    "        \"father_name\": a2,\n",
    "        \"phone_number\": a3,\n",
    "        \"email\": a4,\n",
    "        \"job_designation\": a5,\n",
    "        \"address\": a6,\n",
    "    }\n",
    "\n",
    "#bank\n",
    "def bank():\n",
    "\n",
    "#use while loop for multiple entries\n",
    "while True:\n",
    "\n",
    "    AccountDetails = accountCreation()\n",
    "    \n",
    "    #ganerate unique user id\n",
    "    userId = len(User_Accounts) + 1\n",
    "    User_Accounts[f\"User_{userId}\"] = AccountDetails\n",
    "    # User_Accounts[f\"Bank{userId}\"] = BankOfPakistan()\n",
    "    \n",
    "    # ask if user want to add another acount or not\n",
    "    another = input(\"do you want to add another account yes/no: \").strip().lower()\n",
    "    if another != \"yes\":\n",
    "        break\n",
    "    \n",
    "print(User_Accounts)\n",
    "\n",
    "\n",
    "\n",
    "# user_Account carry all users\n",
    "# Accountdetails carry only one user\n",
    "# goal : add bank into individual user by means AccountDetails  "
   ]
  },
  {
   "cell_type": "markdown",
   "metadata": {},
   "source": []
  },
  {
   "cell_type": "code",
   "execution_count": 3,
   "metadata": {},
   "outputs": [
    {
     "name": "stdout",
     "output_type": "stream",
     "text": [
      "{'name': 'hassan', 'father_name': 'nadeem', 'phone_number': '0987456321', 'email': 'hassan@gmail.com', 'job_designation': 'architect cluod', 'address': 'karachi'}\n"
     ]
    }
   ],
   "source": [
    "#test the account storage\n",
    "print(AccountDetails)"
   ]
  },
  {
   "cell_type": "code",
   "execution_count": 15,
   "metadata": {},
   "outputs": [],
   "source": [
    "# <================= -Module 2:  F2 depositing money,bank =================>"
   ]
  },
  {
   "cell_type": "code",
   "execution_count": null,
   "metadata": {},
   "outputs": [],
   "source": []
  },
  {
   "cell_type": "code",
   "execution_count": 16,
   "metadata": {},
   "outputs": [],
   "source": [
    "# <================= -MOdule 3: -F3 withdrawing money, ===================>"
   ]
  },
  {
   "cell_type": "code",
   "execution_count": null,
   "metadata": {},
   "outputs": [],
   "source": []
  },
  {
   "cell_type": "code",
   "execution_count": 17,
   "metadata": {},
   "outputs": [],
   "source": [
    "# <================= -MOdule 4: F4 checking the balance, ====================> "
   ]
  },
  {
   "cell_type": "code",
   "execution_count": null,
   "metadata": {},
   "outputs": [],
   "source": []
  },
  {
   "cell_type": "code",
   "execution_count": 18,
   "metadata": {},
   "outputs": [],
   "source": [
    "# <=============== -MOdule 5: F5 printing a transaction statement, ===============>"
   ]
  },
  {
   "cell_type": "code",
   "execution_count": null,
   "metadata": {},
   "outputs": [],
   "source": []
  }
 ],
 "metadata": {
  "kernelspec": {
   "display_name": "Python 3",
   "language": "python",
   "name": "python3"
  },
  "language_info": {
   "codemirror_mode": {
    "name": "ipython",
    "version": 3
   },
   "file_extension": ".py",
   "mimetype": "text/x-python",
   "name": "python",
   "nbconvert_exporter": "python",
   "pygments_lexer": "ipython3",
   "version": "3.12.8"
  }
 },
 "nbformat": 4,
 "nbformat_minor": 2
}
